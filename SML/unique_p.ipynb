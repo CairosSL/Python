{
 "cells": [
  {
   "cell_type": "markdown",
   "metadata": {},
   "source": [
    "# PNN (Perceptron Neural Network)\n"
   ]
  },
  {
   "cell_type": "code",
   "execution_count": 2,
   "metadata": {},
   "outputs": [],
   "source": [
    "vect = [[0,0,0],\n",
    "       [0,1,0],\n",
    "       [1,0,0],\n",
    "       [1,1,1],]"
   ]
  },
  {
   "cell_type": "code",
   "execution_count": 3,
   "metadata": {},
   "outputs": [],
   "source": [
    "class NN():\n",
    "    def __init__(self, vect):\n",
    "        self.vect = vect\n",
    "        self.inp = []\n",
    "        self.outp = []\n",
    "        \n",
    "    def split(self):\n",
    "        for index, _ in enumerate(vect):\n",
    "            self.outp.append(_[-1])\n",
    "            self.inp.append([_[0],_[1]])\n",
    "            \n",
    "    def printar(self):\n",
    "        self.split()\n",
    "        return self.inp\n",
    "    \n",
    "    def perceptron(self):\n",
    "        pass\n",
    "    "
   ]
  },
  {
   "cell_type": "code",
   "execution_count": 4,
   "metadata": {},
   "outputs": [
    {
     "data": {
      "text/plain": [
       "[[0, 0], [0, 1], [1, 0], [1, 1]]"
      ]
     },
     "execution_count": 4,
     "metadata": {},
     "output_type": "execute_result"
    }
   ],
   "source": [
    "s = NN(vect)\n",
    "s.printar()"
   ]
  }
 ],
 "metadata": {
  "kernelspec": {
   "display_name": "Python 3",
   "language": "python",
   "name": "python3"
  },
  "language_info": {
   "codemirror_mode": {
    "name": "ipython",
    "version": 3
   },
   "file_extension": ".py",
   "mimetype": "text/x-python",
   "name": "python",
   "nbconvert_exporter": "python",
   "pygments_lexer": "ipython3",
   "version": "3.6.9"
  }
 },
 "nbformat": 4,
 "nbformat_minor": 2
}
